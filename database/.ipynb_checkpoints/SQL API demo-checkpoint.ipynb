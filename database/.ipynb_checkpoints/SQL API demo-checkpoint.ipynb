{
 "cells": [
  {
   "cell_type": "code",
   "execution_count": 1,
   "metadata": {},
   "outputs": [],
   "source": [
    "import pandas as pd\n",
    "import sqlalchemy\n",
    "import pymysql"
   ]
  },
  {
   "cell_type": "code",
   "execution_count": 2,
   "metadata": {},
   "outputs": [],
   "source": [
    "# Define API for SQL database\n",
    "\n",
    "def create_sql_connection(SQL_USERNAME, SQL_PASSWORD, SQL_DB_NAME, verbose):\n",
    "\n",
    "    # Connection settings\n",
    "    SQL_DIALECT = \"mysql\"  # we are using MySQL\n",
    "    SQL_DRIVER = \"pymysql\"  # pymsql provides an interface between MySQL and Python\n",
    "\n",
    "    # The \n",
    "    SQL_URL = \"{}+{}://{}:{}@localhost:3306/{}\".format(SQL_DIALECT,\n",
    "                                                       SQL_DRIVER,\n",
    "                                                       SQL_USERNAME,\n",
    "                                                       SQL_PASSWORD,\n",
    "                                                       SQL_DB_NAME)\n",
    "    engine = sqlalchemy.create_engine(SQL_URL, echo = verbose)\n",
    "    return engine\n",
    "    \n",
    "def run_query(engine, query):\n",
    "    # runs arbitrary SQL query     \n",
    "    return engine.execute(query)\n",
    "\n",
    "def read_sql_query(engine, query):\n",
    "    # reads data and returns in a pandas dataframe\n",
    "    return pd.read_sql(sql=query, con=engine)\n",
    "    \n",
    "def write_sql_query(engine, df, name):\n",
    "    # write a pandas dataframe into a SQL server\n",
    "    df.to_sql(con=engine, name = name, **{\"if_exists\": \"replace\", \"index\": False})"
   ]
  },
  {
   "cell_type": "code",
   "execution_count": 3,
   "metadata": {},
   "outputs": [],
   "source": [
    "# parameters for connection\n",
    "SQL_USERNAME = \"DTTFUser\"\n",
    "SQL_PASSWORD = \"DTTFPassword\"\n",
    "SQL_DB_NAME = \"DTFF_DB\"\n",
    "verbose = False\n",
    "engine = create_sql_connection(SQL_USERNAME, SQL_PASSWORD, SQL_DB_NAME, verbose)"
   ]
  },
  {
   "cell_type": "code",
   "execution_count": 4,
   "metadata": {},
   "outputs": [],
   "source": [
    "\n",
    "query = 'SELECT * FROM people_info'\n",
    "query_result = run_query(engine,query)\n",
    "df = read_sql_query(engine, query)"
   ]
  },
  {
   "cell_type": "code",
   "execution_count": 5,
   "metadata": {},
   "outputs": [
    {
     "data": {
      "text/plain": [
       "[('Jordan Brett Seligmann', datetime.date(1996, 9, 26), 'M', 0),\n",
       " ('Silvia Forcina Barrero', datetime.date(1998, 8, 15), 'F', 0),\n",
       " ('Filip Sprusansky', datetime.date(1964, 9, 24), 'M', 0),\n",
       " ('Villem Adolf Armulik', datetime.date(1967, 6, 25), 'M', 0)]"
      ]
     },
     "execution_count": 5,
     "metadata": {},
     "output_type": "execute_result"
    }
   ],
   "source": [
    "query_result.fetchall()"
   ]
  },
  {
   "cell_type": "code",
   "execution_count": 6,
   "metadata": {},
   "outputs": [
    {
     "data": {
      "text/html": [
       "<div>\n",
       "<style scoped>\n",
       "    .dataframe tbody tr th:only-of-type {\n",
       "        vertical-align: middle;\n",
       "    }\n",
       "\n",
       "    .dataframe tbody tr th {\n",
       "        vertical-align: top;\n",
       "    }\n",
       "\n",
       "    .dataframe thead th {\n",
       "        text-align: right;\n",
       "    }\n",
       "</style>\n",
       "<table border=\"1\" class=\"dataframe\">\n",
       "  <thead>\n",
       "    <tr style=\"text-align: right;\">\n",
       "      <th></th>\n",
       "      <th>_name</th>\n",
       "      <th>date_of_birth</th>\n",
       "      <th>Sex</th>\n",
       "      <th>Employment_status</th>\n",
       "    </tr>\n",
       "  </thead>\n",
       "  <tbody>\n",
       "    <tr>\n",
       "      <th>0</th>\n",
       "      <td>Jordan Brett Seligmann</td>\n",
       "      <td>1996-09-26</td>\n",
       "      <td>M</td>\n",
       "      <td>0</td>\n",
       "    </tr>\n",
       "    <tr>\n",
       "      <th>1</th>\n",
       "      <td>Silvia Forcina Barrero</td>\n",
       "      <td>1998-08-15</td>\n",
       "      <td>F</td>\n",
       "      <td>0</td>\n",
       "    </tr>\n",
       "    <tr>\n",
       "      <th>2</th>\n",
       "      <td>Filip Sprusansky</td>\n",
       "      <td>1964-09-24</td>\n",
       "      <td>M</td>\n",
       "      <td>0</td>\n",
       "    </tr>\n",
       "    <tr>\n",
       "      <th>3</th>\n",
       "      <td>Villem Adolf Armulik</td>\n",
       "      <td>1967-06-25</td>\n",
       "      <td>M</td>\n",
       "      <td>0</td>\n",
       "    </tr>\n",
       "    <tr>\n",
       "      <th>4</th>\n",
       "      <td>Steve Jobs</td>\n",
       "      <td>2020-12-08</td>\n",
       "      <td>M</td>\n",
       "      <td>0</td>\n",
       "    </tr>\n",
       "  </tbody>\n",
       "</table>\n",
       "</div>"
      ],
      "text/plain": [
       "                    _name date_of_birth Sex  Employment_status\n",
       "0  Jordan Brett Seligmann    1996-09-26   M                  0\n",
       "1  Silvia Forcina Barrero    1998-08-15   F                  0\n",
       "2        Filip Sprusansky    1964-09-24   M                  0\n",
       "3    Villem Adolf Armulik    1967-06-25   M                  0\n",
       "4              Steve Jobs    2020-12-08   M                  0"
      ]
     },
     "execution_count": 6,
     "metadata": {},
     "output_type": "execute_result"
    }
   ],
   "source": [
    "# add a row to our table\n",
    "statement2 = 'INSERT INTO people_info (_name, date_of_birth, Sex, Employment_status) VALUES (\"Steve Jobs\", \"2020-12-08\", \"M\", FALSE);'\n",
    "run_query(engine, statement2)\n",
    "\n",
    "# show that this updated the table\n",
    "df1 = read_sql_query(engine, query)\n",
    "df1\n"
   ]
  },
  {
   "cell_type": "code",
   "execution_count": 7,
   "metadata": {},
   "outputs": [
    {
     "data": {
      "text/html": [
       "<div>\n",
       "<style scoped>\n",
       "    .dataframe tbody tr th:only-of-type {\n",
       "        vertical-align: middle;\n",
       "    }\n",
       "\n",
       "    .dataframe tbody tr th {\n",
       "        vertical-align: top;\n",
       "    }\n",
       "\n",
       "    .dataframe thead th {\n",
       "        text-align: right;\n",
       "    }\n",
       "</style>\n",
       "<table border=\"1\" class=\"dataframe\">\n",
       "  <thead>\n",
       "    <tr style=\"text-align: right;\">\n",
       "      <th></th>\n",
       "      <th>_name</th>\n",
       "      <th>date_of_birth</th>\n",
       "      <th>Sex</th>\n",
       "      <th>Employment_status</th>\n",
       "    </tr>\n",
       "  </thead>\n",
       "  <tbody>\n",
       "    <tr>\n",
       "      <th>0</th>\n",
       "      <td>Jordan Brett Seligmann</td>\n",
       "      <td>1996-09-26</td>\n",
       "      <td>M</td>\n",
       "      <td>0</td>\n",
       "    </tr>\n",
       "    <tr>\n",
       "      <th>1</th>\n",
       "      <td>Silvia Forcina Barrero</td>\n",
       "      <td>1998-08-15</td>\n",
       "      <td>F</td>\n",
       "      <td>0</td>\n",
       "    </tr>\n",
       "    <tr>\n",
       "      <th>2</th>\n",
       "      <td>Filip Sprusansky</td>\n",
       "      <td>1964-09-24</td>\n",
       "      <td>M</td>\n",
       "      <td>0</td>\n",
       "    </tr>\n",
       "    <tr>\n",
       "      <th>3</th>\n",
       "      <td>Villem Adolf Armulik</td>\n",
       "      <td>1967-06-25</td>\n",
       "      <td>M</td>\n",
       "      <td>0</td>\n",
       "    </tr>\n",
       "  </tbody>\n",
       "</table>\n",
       "</div>"
      ],
      "text/plain": [
       "                    _name date_of_birth Sex  Employment_status\n",
       "0  Jordan Brett Seligmann    1996-09-26   M                  0\n",
       "1  Silvia Forcina Barrero    1998-08-15   F                  0\n",
       "2        Filip Sprusansky    1964-09-24   M                  0\n",
       "3    Villem Adolf Armulik    1967-06-25   M                  0"
      ]
     },
     "execution_count": 7,
     "metadata": {},
     "output_type": "execute_result"
    }
   ],
   "source": [
    "\n",
    "# delete an entry from our table\n",
    "run_query(engine, 'DELETE FROM people_info WHERE _name = \"Steve Jobs\";')\n",
    "# show that this updated the table\n",
    "df2 = read_sql_query(engine, query)\n",
    "df2"
   ]
  },
  {
   "cell_type": "code",
   "execution_count": 8,
   "metadata": {},
   "outputs": [
    {
     "data": {
      "text/html": [
       "<div>\n",
       "<style scoped>\n",
       "    .dataframe tbody tr th:only-of-type {\n",
       "        vertical-align: middle;\n",
       "    }\n",
       "\n",
       "    .dataframe tbody tr th {\n",
       "        vertical-align: top;\n",
       "    }\n",
       "\n",
       "    .dataframe thead th {\n",
       "        text-align: right;\n",
       "    }\n",
       "</style>\n",
       "<table border=\"1\" class=\"dataframe\">\n",
       "  <thead>\n",
       "    <tr style=\"text-align: right;\">\n",
       "      <th></th>\n",
       "      <th>_name</th>\n",
       "      <th>date_of_birth</th>\n",
       "      <th>Sex</th>\n",
       "      <th>Employment_status</th>\n",
       "    </tr>\n",
       "  </thead>\n",
       "  <tbody>\n",
       "    <tr>\n",
       "      <th>0</th>\n",
       "      <td>Jordan Brett Seligmann</td>\n",
       "      <td>1996-09-26</td>\n",
       "      <td>M</td>\n",
       "      <td>0</td>\n",
       "    </tr>\n",
       "    <tr>\n",
       "      <th>1</th>\n",
       "      <td>Silvia Forcina Barrero</td>\n",
       "      <td>1998-08-15</td>\n",
       "      <td>F</td>\n",
       "      <td>0</td>\n",
       "    </tr>\n",
       "    <tr>\n",
       "      <th>2</th>\n",
       "      <td>Filip Sprusansky</td>\n",
       "      <td>1964-09-24</td>\n",
       "      <td>M</td>\n",
       "      <td>0</td>\n",
       "    </tr>\n",
       "    <tr>\n",
       "      <th>3</th>\n",
       "      <td>Villem Adolf Armulik</td>\n",
       "      <td>1967-06-25</td>\n",
       "      <td>M</td>\n",
       "      <td>0</td>\n",
       "    </tr>\n",
       "    <tr>\n",
       "      <th>4</th>\n",
       "      <td>Steve Jobs</td>\n",
       "      <td>2020-12-08</td>\n",
       "      <td>M</td>\n",
       "      <td>0</td>\n",
       "    </tr>\n",
       "  </tbody>\n",
       "</table>\n",
       "</div>"
      ],
      "text/plain": [
       "                    _name date_of_birth Sex  Employment_status\n",
       "0  Jordan Brett Seligmann    1996-09-26   M                  0\n",
       "1  Silvia Forcina Barrero    1998-08-15   F                  0\n",
       "2        Filip Sprusansky    1964-09-24   M                  0\n",
       "3    Villem Adolf Armulik    1967-06-25   M                  0\n",
       "4              Steve Jobs    2020-12-08   M                  0"
      ]
     },
     "execution_count": 8,
     "metadata": {},
     "output_type": "execute_result"
    }
   ],
   "source": [
    "# write data to database using write_sql_query function\n",
    "write_sql_query(engine, df1, 'people_info_1')\n",
    "\n",
    "# check database was updated\n",
    "read_sql_query(engine, 'SELECT * FROM people_info_1')"
   ]
  },
  {
   "cell_type": "code",
   "execution_count": 9,
   "metadata": {},
   "outputs": [
    {
     "data": {
      "text/plain": [
       "<sqlalchemy.engine.result.ResultProxy at 0x6dec44f0>"
      ]
     },
     "execution_count": 9,
     "metadata": {},
     "output_type": "execute_result"
    }
   ],
   "source": [
    "# drop newly created table\n",
    "run_query(engine, 'DROP TABLE IF EXISTS people_info_1;')"
   ]
  }
 ],
 "metadata": {
  "kernelspec": {
   "display_name": "Python 3",
   "language": "python",
   "name": "python3"
  },
  "language_info": {
   "codemirror_mode": {
    "name": "ipython",
    "version": 3
   },
   "file_extension": ".py",
   "mimetype": "text/x-python",
   "name": "python",
   "nbconvert_exporter": "python",
   "pygments_lexer": "ipython3",
   "version": "3.7.6"
  }
 },
 "nbformat": 4,
 "nbformat_minor": 4
}
